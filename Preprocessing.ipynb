{
 "cells": [
  {
   "cell_type": "code",
   "execution_count": 7,
   "metadata": {
    "colab": {},
    "colab_type": "code",
    "id": "pYj8fSJ4DnLH"
   },
   "outputs": [],
   "source": [
    "import numpy as np\n",
    "import torch\n",
    "import pandas as pd\n",
    "import matplotlib.pyplot as plt\n",
    "import matplotlib as mpl\n",
    "import matplotlib.colors as mcolors\n",
    "\n",
    "from glob import glob\n",
    "from torch.utils.data import Dataset, DataLoader\n",
    "from torch.utils.data.sampler import SubsetRandomSampler\n",
    "import cv2 as cv\n",
    "import os\n",
    "\n",
    "np.random.seed(42)"
   ]
  },
  {
   "cell_type": "code",
   "execution_count": 8,
   "metadata": {
    "colab": {},
    "colab_type": "code",
    "id": "LthPasAxyW_z"
   },
   "outputs": [],
   "source": [
    "colors_dict = mcolors.CSS4_COLORS\n",
    "colors_list = np.random.permutation(list(colors_dict.keys()))"
   ]
  },
  {
   "cell_type": "code",
   "execution_count": 9,
   "metadata": {
    "colab": {},
    "colab_type": "code",
    "id": "rx_pPhYKDq2K"
   },
   "outputs": [],
   "source": [
    "google_drive_dir = 'drive/My Drive/'\n",
    "dataset_dir = 'skin-cancer-mnist-ham10000/'\n",
    "metadata_csv_name = 'HAM10000_metadata.csv'\n",
    "metadata_cleared_csv_name = 'HAM10000_metadata_preprocessed.csv'\n",
    "isColab = False"
   ]
  },
  {
   "cell_type": "markdown",
   "metadata": {
    "colab_type": "text",
    "id": "Fjr3_rOoEbEi"
   },
   "source": [
    "### Launch this if you are working at Google Colab"
   ]
  },
  {
   "cell_type": "code",
   "execution_count": 0,
   "metadata": {
    "colab": {},
    "colab_type": "code",
    "id": "rASFuRCcE2-l"
   },
   "outputs": [],
   "source": [
    "isColab = True"
   ]
  },
  {
   "cell_type": "markdown",
   "metadata": {
    "colab_type": "text",
    "id": "SyDbCnkuFA74"
   },
   "source": [
    "### Get full path to dataset"
   ]
  },
  {
   "cell_type": "code",
   "execution_count": 10,
   "metadata": {
    "colab": {
     "base_uri": "https://localhost:8080/",
     "height": 34
    },
    "colab_type": "code",
    "id": "pZZSGyoNEVIe",
    "outputId": "b5581a78-2dd2-4fea-f505-b8bb3f2141e9"
   },
   "outputs": [
    {
     "data": {
      "text/plain": [
       "'skin-cancer-mnist-ham10000/'"
      ]
     },
     "execution_count": 10,
     "metadata": {},
     "output_type": "execute_result"
    }
   ],
   "source": [
    "if isColab:\n",
    "  dataset_path = google_drive_dir + dataset_dir\n",
    "else:\n",
    "  dataset_path = dataset_dir\n",
    "\n",
    "dataset_path"
   ]
  },
  {
   "cell_type": "markdown",
   "metadata": {
    "colab_type": "text",
    "id": "BRESMJ7YFFtS"
   },
   "source": [
    "### Read dataset"
   ]
  },
  {
   "cell_type": "code",
   "execution_count": 11,
   "metadata": {
    "colab": {
     "base_uri": "https://localhost:8080/",
     "height": 204
    },
    "colab_type": "code",
    "id": "fEtmBs8mDsVd",
    "outputId": "53915e5c-b39b-47b3-8063-489143c9a82d"
   },
   "outputs": [
    {
     "data": {
      "text/html": [
       "<div>\n",
       "<style scoped>\n",
       "    .dataframe tbody tr th:only-of-type {\n",
       "        vertical-align: middle;\n",
       "    }\n",
       "\n",
       "    .dataframe tbody tr th {\n",
       "        vertical-align: top;\n",
       "    }\n",
       "\n",
       "    .dataframe thead th {\n",
       "        text-align: right;\n",
       "    }\n",
       "</style>\n",
       "<table border=\"1\" class=\"dataframe\">\n",
       "  <thead>\n",
       "    <tr style=\"text-align: right;\">\n",
       "      <th></th>\n",
       "      <th>lesion_id</th>\n",
       "      <th>image_id</th>\n",
       "      <th>dx</th>\n",
       "      <th>dx_type</th>\n",
       "      <th>age</th>\n",
       "      <th>sex</th>\n",
       "      <th>localization</th>\n",
       "    </tr>\n",
       "  </thead>\n",
       "  <tbody>\n",
       "    <tr>\n",
       "      <th>0</th>\n",
       "      <td>HAM_0000118</td>\n",
       "      <td>ISIC_0027419</td>\n",
       "      <td>bkl</td>\n",
       "      <td>histo</td>\n",
       "      <td>80.0</td>\n",
       "      <td>male</td>\n",
       "      <td>scalp</td>\n",
       "    </tr>\n",
       "    <tr>\n",
       "      <th>1</th>\n",
       "      <td>HAM_0000118</td>\n",
       "      <td>ISIC_0025030</td>\n",
       "      <td>bkl</td>\n",
       "      <td>histo</td>\n",
       "      <td>80.0</td>\n",
       "      <td>male</td>\n",
       "      <td>scalp</td>\n",
       "    </tr>\n",
       "    <tr>\n",
       "      <th>2</th>\n",
       "      <td>HAM_0002730</td>\n",
       "      <td>ISIC_0026769</td>\n",
       "      <td>bkl</td>\n",
       "      <td>histo</td>\n",
       "      <td>80.0</td>\n",
       "      <td>male</td>\n",
       "      <td>scalp</td>\n",
       "    </tr>\n",
       "    <tr>\n",
       "      <th>3</th>\n",
       "      <td>HAM_0002730</td>\n",
       "      <td>ISIC_0025661</td>\n",
       "      <td>bkl</td>\n",
       "      <td>histo</td>\n",
       "      <td>80.0</td>\n",
       "      <td>male</td>\n",
       "      <td>scalp</td>\n",
       "    </tr>\n",
       "    <tr>\n",
       "      <th>4</th>\n",
       "      <td>HAM_0001466</td>\n",
       "      <td>ISIC_0031633</td>\n",
       "      <td>bkl</td>\n",
       "      <td>histo</td>\n",
       "      <td>75.0</td>\n",
       "      <td>male</td>\n",
       "      <td>ear</td>\n",
       "    </tr>\n",
       "  </tbody>\n",
       "</table>\n",
       "</div>"
      ],
      "text/plain": [
       "     lesion_id      image_id   dx dx_type   age   sex localization\n",
       "0  HAM_0000118  ISIC_0027419  bkl   histo  80.0  male        scalp\n",
       "1  HAM_0000118  ISIC_0025030  bkl   histo  80.0  male        scalp\n",
       "2  HAM_0002730  ISIC_0026769  bkl   histo  80.0  male        scalp\n",
       "3  HAM_0002730  ISIC_0025661  bkl   histo  80.0  male        scalp\n",
       "4  HAM_0001466  ISIC_0031633  bkl   histo  75.0  male          ear"
      ]
     },
     "execution_count": 11,
     "metadata": {},
     "output_type": "execute_result"
    }
   ],
   "source": [
    "skin_df = pd.read_csv(dataset_path + metadata_csv_name)\n",
    "\n",
    "skin_df.head()"
   ]
  },
  {
   "cell_type": "code",
   "execution_count": 12,
   "metadata": {
    "colab": {
     "base_uri": "https://localhost:8080/",
     "height": 153
    },
    "colab_type": "code",
    "id": "c-FS4peRUUv-",
    "outputId": "e9904055-a1e5-49a0-fb22-e7421530a39c"
   },
   "outputs": [
    {
     "data": {
      "text/plain": [
       "lesion_id        object\n",
       "image_id         object\n",
       "dx               object\n",
       "dx_type          object\n",
       "age             float64\n",
       "sex              object\n",
       "localization     object\n",
       "dtype: object"
      ]
     },
     "execution_count": 12,
     "metadata": {},
     "output_type": "execute_result"
    }
   ],
   "source": [
    "skin_df.dtypes"
   ]
  },
  {
   "cell_type": "markdown",
   "metadata": {
    "colab_type": "text",
    "id": "goI-EVe9LIPL"
   },
   "source": [
    "## Data Cleaning"
   ]
  },
  {
   "cell_type": "code",
   "execution_count": 13,
   "metadata": {
    "colab": {
     "base_uri": "https://localhost:8080/",
     "height": 153
    },
    "colab_type": "code",
    "id": "epg2y7CCFac-",
    "outputId": "7748afc3-ce81-4b08-bf28-b33616412084"
   },
   "outputs": [
    {
     "data": {
      "text/plain": [
       "lesion_id        0\n",
       "image_id         0\n",
       "dx               0\n",
       "dx_type          0\n",
       "age             57\n",
       "sex              0\n",
       "localization     0\n",
       "dtype: int64"
      ]
     },
     "execution_count": 13,
     "metadata": {},
     "output_type": "execute_result"
    }
   ],
   "source": [
    "skin_df.isnull().sum()"
   ]
  },
  {
   "cell_type": "code",
   "execution_count": 14,
   "metadata": {
    "colab": {},
    "colab_type": "code",
    "id": "aID4tRr-Kpu9"
   },
   "outputs": [],
   "source": [
    "skin_df['age'].replace(to_replace=0, value=int(skin_df['age'].mean()))\n",
    "skin_df['age'].fillna(int((skin_df['age'].mean())), inplace=True)"
   ]
  },
  {
   "cell_type": "code",
   "execution_count": 15,
   "metadata": {
    "colab": {
     "base_uri": "https://localhost:8080/",
     "height": 357
    },
    "colab_type": "code",
    "id": "toBa8Nx7Q3xF",
    "outputId": "d09616ec-2ae9-4e14-fa7e-cf7c45b80d60"
   },
   "outputs": [
    {
     "data": {
      "text/plain": [
       "45.0    1299\n",
       "50.0    1187\n",
       "55.0    1009\n",
       "40.0     985\n",
       "60.0     803\n",
       "70.0     756\n",
       "35.0     753\n",
       "65.0     731\n",
       "75.0     618\n",
       "30.0     464\n",
       "80.0     404\n",
       "85.0     290\n",
       "25.0     247\n",
       "20.0     169\n",
       "5.0       86\n",
       "15.0      77\n",
       "51.0      57\n",
       "10.0      41\n",
       "0.0       39\n",
       "Name: age, dtype: int64"
      ]
     },
     "execution_count": 15,
     "metadata": {},
     "output_type": "execute_result"
    }
   ],
   "source": [
    "skin_df['age'].value_counts()"
   ]
  },
  {
   "cell_type": "code",
   "execution_count": 16,
   "metadata": {
    "colab": {
     "base_uri": "https://localhost:8080/",
     "height": 153
    },
    "colab_type": "code",
    "id": "cMrzYUKJKxdP",
    "outputId": "95137f39-d82d-4be8-a372-57022cfd9e7a"
   },
   "outputs": [
    {
     "data": {
      "text/plain": [
       "lesion_id       0\n",
       "image_id        0\n",
       "dx              0\n",
       "dx_type         0\n",
       "age             0\n",
       "sex             0\n",
       "localization    0\n",
       "dtype: int64"
      ]
     },
     "execution_count": 16,
     "metadata": {},
     "output_type": "execute_result"
    }
   ],
   "source": [
    "skin_df.isnull().sum()"
   ]
  },
  {
   "cell_type": "markdown",
   "metadata": {
    "colab_type": "text",
    "id": "uXaXoxhgr_5T"
   },
   "source": [
    "## Add Column with Full Name of Disease"
   ]
  },
  {
   "cell_type": "code",
   "execution_count": 17,
   "metadata": {
    "colab": {},
    "colab_type": "code",
    "id": "UsHv49-csH_W"
   },
   "outputs": [],
   "source": [
    "lesion_type_dict = {\n",
    "    'nv': 'Melanocytic nevi',\n",
    "    'mel': 'Melanoma',\n",
    "    'bkl': 'Benign keratosis-like lesions ',\n",
    "    'bcc': 'Basal cell carcinoma',\n",
    "    'akiec': 'Actinic keratoses',\n",
    "    'vasc': 'Vascular lesions',\n",
    "    'df': 'Dermatofibroma'\n",
    "}\n",
    "\n",
    "skin_df['cell_type'] = skin_df['dx'].map(lesion_type_dict.get)"
   ]
  },
  {
   "cell_type": "markdown",
   "metadata": {
    "colab_type": "text",
    "id": "PBVxUPmpMAbq"
   },
   "source": [
    "## Encode categorical data"
   ]
  },
  {
   "cell_type": "code",
   "execution_count": 23,
   "metadata": {
    "colab": {
     "base_uri": "https://localhost:8080/",
     "height": 431
    },
    "colab_type": "code",
    "id": "pq50IXVzmMP2",
    "outputId": "1f149b2b-1e2c-4a6a-cabd-ec09b6ec99aa",
    "scrolled": false
   },
   "outputs": [
    {
     "data": {
      "text/html": [
       "<div>\n",
       "<style scoped>\n",
       "    .dataframe tbody tr th:only-of-type {\n",
       "        vertical-align: middle;\n",
       "    }\n",
       "\n",
       "    .dataframe tbody tr th {\n",
       "        vertical-align: top;\n",
       "    }\n",
       "\n",
       "    .dataframe thead th {\n",
       "        text-align: right;\n",
       "    }\n",
       "</style>\n",
       "<table border=\"1\" class=\"dataframe\">\n",
       "  <thead>\n",
       "    <tr style=\"text-align: right;\">\n",
       "      <th></th>\n",
       "      <th>lesion_id</th>\n",
       "      <th>image_id</th>\n",
       "      <th>dx</th>\n",
       "      <th>dx_type</th>\n",
       "      <th>age</th>\n",
       "      <th>sex</th>\n",
       "      <th>localization</th>\n",
       "      <th>cell_type</th>\n",
       "      <th>dx_akiec</th>\n",
       "      <th>dx_bcc</th>\n",
       "      <th>...</th>\n",
       "      <th>localization_face</th>\n",
       "      <th>localization_foot</th>\n",
       "      <th>localization_genital</th>\n",
       "      <th>localization_hand</th>\n",
       "      <th>localization_lower extremity</th>\n",
       "      <th>localization_neck</th>\n",
       "      <th>localization_scalp</th>\n",
       "      <th>localization_trunk</th>\n",
       "      <th>localization_unknown</th>\n",
       "      <th>localization_upper extremity</th>\n",
       "    </tr>\n",
       "  </thead>\n",
       "  <tbody>\n",
       "    <tr>\n",
       "      <th>0</th>\n",
       "      <td>HAM_0000118</td>\n",
       "      <td>ISIC_0027419</td>\n",
       "      <td>bkl</td>\n",
       "      <td>histo</td>\n",
       "      <td>80.0</td>\n",
       "      <td>male</td>\n",
       "      <td>scalp</td>\n",
       "      <td>Benign keratosis-like lesions</td>\n",
       "      <td>0</td>\n",
       "      <td>0</td>\n",
       "      <td>...</td>\n",
       "      <td>0</td>\n",
       "      <td>0</td>\n",
       "      <td>0</td>\n",
       "      <td>0</td>\n",
       "      <td>0</td>\n",
       "      <td>0</td>\n",
       "      <td>1</td>\n",
       "      <td>0</td>\n",
       "      <td>0</td>\n",
       "      <td>0</td>\n",
       "    </tr>\n",
       "    <tr>\n",
       "      <th>1</th>\n",
       "      <td>HAM_0000118</td>\n",
       "      <td>ISIC_0025030</td>\n",
       "      <td>bkl</td>\n",
       "      <td>histo</td>\n",
       "      <td>80.0</td>\n",
       "      <td>male</td>\n",
       "      <td>scalp</td>\n",
       "      <td>Benign keratosis-like lesions</td>\n",
       "      <td>0</td>\n",
       "      <td>0</td>\n",
       "      <td>...</td>\n",
       "      <td>0</td>\n",
       "      <td>0</td>\n",
       "      <td>0</td>\n",
       "      <td>0</td>\n",
       "      <td>0</td>\n",
       "      <td>0</td>\n",
       "      <td>1</td>\n",
       "      <td>0</td>\n",
       "      <td>0</td>\n",
       "      <td>0</td>\n",
       "    </tr>\n",
       "    <tr>\n",
       "      <th>2</th>\n",
       "      <td>HAM_0002730</td>\n",
       "      <td>ISIC_0026769</td>\n",
       "      <td>bkl</td>\n",
       "      <td>histo</td>\n",
       "      <td>80.0</td>\n",
       "      <td>male</td>\n",
       "      <td>scalp</td>\n",
       "      <td>Benign keratosis-like lesions</td>\n",
       "      <td>0</td>\n",
       "      <td>0</td>\n",
       "      <td>...</td>\n",
       "      <td>0</td>\n",
       "      <td>0</td>\n",
       "      <td>0</td>\n",
       "      <td>0</td>\n",
       "      <td>0</td>\n",
       "      <td>0</td>\n",
       "      <td>1</td>\n",
       "      <td>0</td>\n",
       "      <td>0</td>\n",
       "      <td>0</td>\n",
       "    </tr>\n",
       "    <tr>\n",
       "      <th>3</th>\n",
       "      <td>HAM_0002730</td>\n",
       "      <td>ISIC_0025661</td>\n",
       "      <td>bkl</td>\n",
       "      <td>histo</td>\n",
       "      <td>80.0</td>\n",
       "      <td>male</td>\n",
       "      <td>scalp</td>\n",
       "      <td>Benign keratosis-like lesions</td>\n",
       "      <td>0</td>\n",
       "      <td>0</td>\n",
       "      <td>...</td>\n",
       "      <td>0</td>\n",
       "      <td>0</td>\n",
       "      <td>0</td>\n",
       "      <td>0</td>\n",
       "      <td>0</td>\n",
       "      <td>0</td>\n",
       "      <td>1</td>\n",
       "      <td>0</td>\n",
       "      <td>0</td>\n",
       "      <td>0</td>\n",
       "    </tr>\n",
       "    <tr>\n",
       "      <th>4</th>\n",
       "      <td>HAM_0001466</td>\n",
       "      <td>ISIC_0031633</td>\n",
       "      <td>bkl</td>\n",
       "      <td>histo</td>\n",
       "      <td>75.0</td>\n",
       "      <td>male</td>\n",
       "      <td>ear</td>\n",
       "      <td>Benign keratosis-like lesions</td>\n",
       "      <td>0</td>\n",
       "      <td>0</td>\n",
       "      <td>...</td>\n",
       "      <td>0</td>\n",
       "      <td>0</td>\n",
       "      <td>0</td>\n",
       "      <td>0</td>\n",
       "      <td>0</td>\n",
       "      <td>0</td>\n",
       "      <td>0</td>\n",
       "      <td>0</td>\n",
       "      <td>0</td>\n",
       "      <td>0</td>\n",
       "    </tr>\n",
       "  </tbody>\n",
       "</table>\n",
       "<p>5 rows × 37 columns</p>\n",
       "</div>"
      ],
      "text/plain": [
       "     lesion_id      image_id   dx dx_type   age   sex localization  \\\n",
       "0  HAM_0000118  ISIC_0027419  bkl   histo  80.0  male        scalp   \n",
       "1  HAM_0000118  ISIC_0025030  bkl   histo  80.0  male        scalp   \n",
       "2  HAM_0002730  ISIC_0026769  bkl   histo  80.0  male        scalp   \n",
       "3  HAM_0002730  ISIC_0025661  bkl   histo  80.0  male        scalp   \n",
       "4  HAM_0001466  ISIC_0031633  bkl   histo  75.0  male          ear   \n",
       "\n",
       "                        cell_type  dx_akiec  dx_bcc  ...  localization_face  \\\n",
       "0  Benign keratosis-like lesions          0       0  ...                  0   \n",
       "1  Benign keratosis-like lesions          0       0  ...                  0   \n",
       "2  Benign keratosis-like lesions          0       0  ...                  0   \n",
       "3  Benign keratosis-like lesions          0       0  ...                  0   \n",
       "4  Benign keratosis-like lesions          0       0  ...                  0   \n",
       "\n",
       "   localization_foot  localization_genital  localization_hand  \\\n",
       "0                  0                     0                  0   \n",
       "1                  0                     0                  0   \n",
       "2                  0                     0                  0   \n",
       "3                  0                     0                  0   \n",
       "4                  0                     0                  0   \n",
       "\n",
       "   localization_lower extremity  localization_neck  localization_scalp  \\\n",
       "0                             0                  0                   1   \n",
       "1                             0                  0                   1   \n",
       "2                             0                  0                   1   \n",
       "3                             0                  0                   1   \n",
       "4                             0                  0                   0   \n",
       "\n",
       "   localization_trunk  localization_unknown  localization_upper extremity  \n",
       "0                   0                     0                             0  \n",
       "1                   0                     0                             0  \n",
       "2                   0                     0                             0  \n",
       "3                   0                     0                             0  \n",
       "4                   0                     0                             0  \n",
       "\n",
       "[5 rows x 37 columns]"
      ]
     },
     "execution_count": 23,
     "metadata": {},
     "output_type": "execute_result"
    }
   ],
   "source": [
    "# Diseases (dx) One-Hot DataFrame\n",
    "dx_onehot = pd.get_dummies(skin_df['dx'], prefix='dx')\n",
    "\n",
    "#Diseases Types (dx_codes) One-Hot DataFrame\n",
    "dx_type_onehot = pd.get_dummies(skin_df['dx_type'], prefix='dx_type')\n",
    "\n",
    "# Sex One-Hot DataFrame\n",
    "sex_onehot = pd.get_dummies(skin_df['sex'], prefix='sex')\n",
    "\n",
    "# Disease Localization One-Hot DataFrame\n",
    "localization_onehot = pd.get_dummies(skin_df['localization'], prefix='localization')\n",
    "\n",
    "# Create List of New DataFrames to Concatenate Them\n",
    "data_frames_list = [\n",
    "    skin_df,\n",
    "    dx_onehot,\n",
    "    dx_type_onehot,\n",
    "    sex_onehot,\n",
    "    localization_onehot\n",
    "]\n",
    "\n",
    "# Final DataFrame\n",
    "df_preprocessed = pd.concat(data_frames_list, axis=1)\n",
    "df_preprocessed.head()"
   ]
  },
  {
   "cell_type": "code",
   "execution_count": 24,
   "metadata": {
    "colab": {},
    "colab_type": "code",
    "id": "KufM4XA0TqPM"
   },
   "outputs": [],
   "source": [
    "df_preprocessed.to_csv(dataset_path + metadata_cleared_csv_name)"
   ]
  },
  {
   "cell_type": "markdown",
   "metadata": {
    "colab_type": "text",
    "id": "fNRTn6dwT-Cu"
   },
   "source": [
    "### Just to check if everything is OK"
   ]
  },
  {
   "cell_type": "code",
   "execution_count": 25,
   "metadata": {
    "colab": {
     "base_uri": "https://localhost:8080/",
     "height": 431
    },
    "colab_type": "code",
    "id": "xnbzYG1rT6gw",
    "outputId": "e26520af-dbaa-4aba-a7a6-a91cee5998db"
   },
   "outputs": [
    {
     "data": {
      "text/html": [
       "<div>\n",
       "<style scoped>\n",
       "    .dataframe tbody tr th:only-of-type {\n",
       "        vertical-align: middle;\n",
       "    }\n",
       "\n",
       "    .dataframe tbody tr th {\n",
       "        vertical-align: top;\n",
       "    }\n",
       "\n",
       "    .dataframe thead th {\n",
       "        text-align: right;\n",
       "    }\n",
       "</style>\n",
       "<table border=\"1\" class=\"dataframe\">\n",
       "  <thead>\n",
       "    <tr style=\"text-align: right;\">\n",
       "      <th></th>\n",
       "      <th>Unnamed: 0</th>\n",
       "      <th>lesion_id</th>\n",
       "      <th>image_id</th>\n",
       "      <th>dx</th>\n",
       "      <th>dx_type</th>\n",
       "      <th>age</th>\n",
       "      <th>sex</th>\n",
       "      <th>localization</th>\n",
       "      <th>cell_type</th>\n",
       "      <th>dx_akiec</th>\n",
       "      <th>...</th>\n",
       "      <th>localization_face</th>\n",
       "      <th>localization_foot</th>\n",
       "      <th>localization_genital</th>\n",
       "      <th>localization_hand</th>\n",
       "      <th>localization_lower extremity</th>\n",
       "      <th>localization_neck</th>\n",
       "      <th>localization_scalp</th>\n",
       "      <th>localization_trunk</th>\n",
       "      <th>localization_unknown</th>\n",
       "      <th>localization_upper extremity</th>\n",
       "    </tr>\n",
       "  </thead>\n",
       "  <tbody>\n",
       "    <tr>\n",
       "      <th>0</th>\n",
       "      <td>0</td>\n",
       "      <td>HAM_0000118</td>\n",
       "      <td>ISIC_0027419</td>\n",
       "      <td>bkl</td>\n",
       "      <td>histo</td>\n",
       "      <td>80.0</td>\n",
       "      <td>male</td>\n",
       "      <td>scalp</td>\n",
       "      <td>Benign keratosis-like lesions</td>\n",
       "      <td>0</td>\n",
       "      <td>...</td>\n",
       "      <td>0</td>\n",
       "      <td>0</td>\n",
       "      <td>0</td>\n",
       "      <td>0</td>\n",
       "      <td>0</td>\n",
       "      <td>0</td>\n",
       "      <td>1</td>\n",
       "      <td>0</td>\n",
       "      <td>0</td>\n",
       "      <td>0</td>\n",
       "    </tr>\n",
       "    <tr>\n",
       "      <th>1</th>\n",
       "      <td>1</td>\n",
       "      <td>HAM_0000118</td>\n",
       "      <td>ISIC_0025030</td>\n",
       "      <td>bkl</td>\n",
       "      <td>histo</td>\n",
       "      <td>80.0</td>\n",
       "      <td>male</td>\n",
       "      <td>scalp</td>\n",
       "      <td>Benign keratosis-like lesions</td>\n",
       "      <td>0</td>\n",
       "      <td>...</td>\n",
       "      <td>0</td>\n",
       "      <td>0</td>\n",
       "      <td>0</td>\n",
       "      <td>0</td>\n",
       "      <td>0</td>\n",
       "      <td>0</td>\n",
       "      <td>1</td>\n",
       "      <td>0</td>\n",
       "      <td>0</td>\n",
       "      <td>0</td>\n",
       "    </tr>\n",
       "    <tr>\n",
       "      <th>2</th>\n",
       "      <td>2</td>\n",
       "      <td>HAM_0002730</td>\n",
       "      <td>ISIC_0026769</td>\n",
       "      <td>bkl</td>\n",
       "      <td>histo</td>\n",
       "      <td>80.0</td>\n",
       "      <td>male</td>\n",
       "      <td>scalp</td>\n",
       "      <td>Benign keratosis-like lesions</td>\n",
       "      <td>0</td>\n",
       "      <td>...</td>\n",
       "      <td>0</td>\n",
       "      <td>0</td>\n",
       "      <td>0</td>\n",
       "      <td>0</td>\n",
       "      <td>0</td>\n",
       "      <td>0</td>\n",
       "      <td>1</td>\n",
       "      <td>0</td>\n",
       "      <td>0</td>\n",
       "      <td>0</td>\n",
       "    </tr>\n",
       "    <tr>\n",
       "      <th>3</th>\n",
       "      <td>3</td>\n",
       "      <td>HAM_0002730</td>\n",
       "      <td>ISIC_0025661</td>\n",
       "      <td>bkl</td>\n",
       "      <td>histo</td>\n",
       "      <td>80.0</td>\n",
       "      <td>male</td>\n",
       "      <td>scalp</td>\n",
       "      <td>Benign keratosis-like lesions</td>\n",
       "      <td>0</td>\n",
       "      <td>...</td>\n",
       "      <td>0</td>\n",
       "      <td>0</td>\n",
       "      <td>0</td>\n",
       "      <td>0</td>\n",
       "      <td>0</td>\n",
       "      <td>0</td>\n",
       "      <td>1</td>\n",
       "      <td>0</td>\n",
       "      <td>0</td>\n",
       "      <td>0</td>\n",
       "    </tr>\n",
       "    <tr>\n",
       "      <th>4</th>\n",
       "      <td>4</td>\n",
       "      <td>HAM_0001466</td>\n",
       "      <td>ISIC_0031633</td>\n",
       "      <td>bkl</td>\n",
       "      <td>histo</td>\n",
       "      <td>75.0</td>\n",
       "      <td>male</td>\n",
       "      <td>ear</td>\n",
       "      <td>Benign keratosis-like lesions</td>\n",
       "      <td>0</td>\n",
       "      <td>...</td>\n",
       "      <td>0</td>\n",
       "      <td>0</td>\n",
       "      <td>0</td>\n",
       "      <td>0</td>\n",
       "      <td>0</td>\n",
       "      <td>0</td>\n",
       "      <td>0</td>\n",
       "      <td>0</td>\n",
       "      <td>0</td>\n",
       "      <td>0</td>\n",
       "    </tr>\n",
       "  </tbody>\n",
       "</table>\n",
       "<p>5 rows × 38 columns</p>\n",
       "</div>"
      ],
      "text/plain": [
       "   Unnamed: 0    lesion_id      image_id   dx dx_type   age   sex  \\\n",
       "0           0  HAM_0000118  ISIC_0027419  bkl   histo  80.0  male   \n",
       "1           1  HAM_0000118  ISIC_0025030  bkl   histo  80.0  male   \n",
       "2           2  HAM_0002730  ISIC_0026769  bkl   histo  80.0  male   \n",
       "3           3  HAM_0002730  ISIC_0025661  bkl   histo  80.0  male   \n",
       "4           4  HAM_0001466  ISIC_0031633  bkl   histo  75.0  male   \n",
       "\n",
       "  localization                       cell_type  dx_akiec  ...  \\\n",
       "0        scalp  Benign keratosis-like lesions          0  ...   \n",
       "1        scalp  Benign keratosis-like lesions          0  ...   \n",
       "2        scalp  Benign keratosis-like lesions          0  ...   \n",
       "3        scalp  Benign keratosis-like lesions          0  ...   \n",
       "4          ear  Benign keratosis-like lesions          0  ...   \n",
       "\n",
       "   localization_face  localization_foot  localization_genital  \\\n",
       "0                  0                  0                     0   \n",
       "1                  0                  0                     0   \n",
       "2                  0                  0                     0   \n",
       "3                  0                  0                     0   \n",
       "4                  0                  0                     0   \n",
       "\n",
       "   localization_hand  localization_lower extremity  localization_neck  \\\n",
       "0                  0                             0                  0   \n",
       "1                  0                             0                  0   \n",
       "2                  0                             0                  0   \n",
       "3                  0                             0                  0   \n",
       "4                  0                             0                  0   \n",
       "\n",
       "   localization_scalp  localization_trunk  localization_unknown  \\\n",
       "0                   1                   0                     0   \n",
       "1                   1                   0                     0   \n",
       "2                   1                   0                     0   \n",
       "3                   1                   0                     0   \n",
       "4                   0                   0                     0   \n",
       "\n",
       "   localization_upper extremity  \n",
       "0                             0  \n",
       "1                             0  \n",
       "2                             0  \n",
       "3                             0  \n",
       "4                             0  \n",
       "\n",
       "[5 rows x 38 columns]"
      ]
     },
     "execution_count": 25,
     "metadata": {},
     "output_type": "execute_result"
    }
   ],
   "source": [
    "cleared_df = pd.read_csv(dataset_path + metadata_cleared_csv_name)\n",
    "cleared_df.head()"
   ]
  },
  {
   "cell_type": "markdown",
   "metadata": {
    "colab_type": "text",
    "id": "lvVbw9pFrRVU"
   },
   "source": [
    "## Data Exploration"
   ]
  },
  {
   "cell_type": "markdown",
   "metadata": {
    "colab_type": "text",
    "id": "wJzgT8HCzXU5"
   },
   "source": [
    "### Diseases Distribution"
   ]
  },
  {
   "cell_type": "code",
   "execution_count": 26,
   "metadata": {
    "colab": {
     "base_uri": "https://localhost:8080/",
     "height": 471
    },
    "colab_type": "code",
    "id": "c5tIPhUNUQyf",
    "outputId": "b60eb4fa-cb6a-461c-b03b-c63a8dac5304"
   },
   "outputs": [
    {
     "data": {
      "image/png": "[encoded data removed]",
      "text/plain": [
       "<Figure size 720x360 with 1 Axes>"
      ]
     },
     "metadata": {
      "needs_background": "light"
     },
     "output_type": "display_data"
    }
   ],
   "source": [
    "cell_type_counts = cleared_df['cell_type'].value_counts()\n",
    "colors = colors_list[:len(cell_type_counts)]\n",
    "fig, ax = plt.subplots(1, 1, figsize=(10, 5))\n",
    "ax.title.set_text('Diseases Distribution')\n",
    "cell_type_counts.plot(kind='barh', ax=ax, color=colors);"
   ]
  },
  {
   "cell_type": "markdown",
   "metadata": {
    "colab_type": "text",
    "id": "bKX9puwvzi_7"
   },
   "source": [
    "### Diseases Type Distribution"
   ]
  },
  {
   "cell_type": "code",
   "execution_count": 27,
   "metadata": {
    "colab": {
     "base_uri": "https://localhost:8080/",
     "height": 378
    },
    "colab_type": "code",
    "id": "hM97H_62xKjq",
    "outputId": "b106d55f-1178-43b3-d1cb-699071d76dc4"
   },
   "outputs": [
    {
     "data": {
      "image/png": "[encoded data removed]",
      "text/plain": [
       "<Figure size 720x360 with 1 Axes>"
      ]
     },
     "metadata": {
      "needs_background": "light"
     },
     "output_type": "display_data"
    }
   ],
   "source": [
    "dx_type_counts = cleared_df['dx_type'].value_counts()\n",
    "colors = colors_list[:len(dx_type_counts)]\n",
    "fig, ax = plt.subplots(1, 1, figsize=(10, 5))\n",
    "ax.title.set_text('Diseases Type Distribution')\n",
    "dx_type_counts.plot(kind='bar', ax=ax, color=colors);"
   ]
  },
  {
   "cell_type": "markdown",
   "metadata": {
    "colab_type": "text",
    "id": "rlOil59hrMr1"
   },
   "source": [
    "### Localization of Disease"
   ]
  },
  {
   "cell_type": "code",
   "execution_count": 29,
   "metadata": {
    "colab": {
     "base_uri": "https://localhost:8080/",
     "height": 406
    },
    "colab_type": "code",
    "id": "Ibc_yVqd0Ymg",
    "outputId": "e034080c-9f54-42ce-bf1b-b5c5ecb35d8b"
   },
   "outputs": [
    {
     "data": {
      "image/png": "[encoded data removed]",
      "text/plain": [
       "<Figure size 720x360 with 1 Axes>"
      ]
     },
     "metadata": {
      "needs_background": "light"
     },
     "output_type": "display_data"
    }
   ],
   "source": [
    "localization_counts = cleared_df['localization'].value_counts()\n",
    "colors = colors_list[:len(localization_counts)]\n",
    "fig, ax = plt.subplots(1, 1, figsize=(10, 5))\n",
    "ax.title.set_text('Localization of Diseases')\n",
    "localization_counts.plot(kind='barh', ax=ax, color=colors);"
   ]
  },
  {
   "cell_type": "markdown",
   "metadata": {
    "colab_type": "text",
    "id": "qmIokbqx0sSx"
   },
   "source": [
    "### Age Distribution"
   ]
  },
  {
   "cell_type": "code",
   "execution_count": 279,
   "metadata": {
    "colab": {
     "base_uri": "https://localhost:8080/",
     "height": 269
    },
    "colab_type": "code",
    "id": "1ij02t8w06kW",
    "outputId": "dc22f8c9-edcf-448f-edfb-175352e1f346"
   },
   "outputs": [
    {
     "data": {
      "image/png": "[encoded data removed]",
      "text/plain": [
       "<Figure size 432x288 with 1 Axes>"
      ]
     },
     "metadata": {
      "tags": []
     },
     "output_type": "display_data"
    }
   ],
   "source": [
    "cleared_df['age'].plot.kde();"
   ]
  },
  {
   "cell_type": "code",
   "execution_count": 0,
   "metadata": {
    "colab": {},
    "colab_type": "code",
    "id": "TNZ4L-pF1aRf"
   },
   "outputs": [],
   "source": []
  }
 ],
 "metadata": {
  "colab": {
   "collapsed_sections": [],
   "name": "Preprocessing.ipynb",
   "provenance": [],
   "version": "0.3.2"
  },
  "kernelspec": {
   "display_name": "Python 3",
   "language": "python",
   "name": "python3"
  },
  "language_info": {
   "codemirror_mode": {
    "name": "ipython",
    "version": 3
   },
   "file_extension": ".py",
   "mimetype": "text/x-python",
   "name": "python",
   "nbconvert_exporter": "python",
   "pygments_lexer": "ipython3",
   "version": "3.6.8"
  }
 },
 "nbformat": 4,
 "nbformat_minor": 1
}
