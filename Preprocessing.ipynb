{
 "cells": [
  {
   "cell_type": "code",
   "execution_count": 1,
   "metadata": {},
   "outputs": [],
   "source": [
    "import numpy as np # linear algebra\n",
    "import torch\n",
    "import pandas as pd\n",
    "import matplotlib.pyplot as plt\n",
    "from torch.utils.data import Dataset, DataLoader\n",
    "from torch.utils.data.sampler import SubsetRandomSampler\n",
    "import cv2 as cv\n",
    "import os"
   ]
  },
  {
   "cell_type": "code",
   "execution_count": 2,
   "metadata": {},
   "outputs": [],
   "source": [
    "root_dir = \"skin-cancer-mnist-ham10000\"\n"
   ]
  },
  {
   "cell_type": "code",
   "execution_count": 16,
   "metadata": {},
   "outputs": [
    {
     "name": "stdout",
     "output_type": "stream",
     "text": [
      "         lesion_id      image_id     dx dx_type   age     sex localization\n",
      "0      HAM_0000118  ISIC_0027419    bkl   histo  80.0    male        scalp\n",
      "1      HAM_0000118  ISIC_0025030    bkl   histo  80.0    male        scalp\n",
      "2      HAM_0002730  ISIC_0026769    bkl   histo  80.0    male        scalp\n",
      "3      HAM_0002730  ISIC_0025661    bkl   histo  80.0    male        scalp\n",
      "4      HAM_0001466  ISIC_0031633    bkl   histo  75.0    male          ear\n",
      "...            ...           ...    ...     ...   ...     ...          ...\n",
      "10010  HAM_0002867  ISIC_0033084  akiec   histo  40.0    male      abdomen\n",
      "10011  HAM_0002867  ISIC_0033550  akiec   histo  40.0    male      abdomen\n",
      "10012  HAM_0002867  ISIC_0033536  akiec   histo  40.0    male      abdomen\n",
      "10013  HAM_0000239  ISIC_0032854  akiec   histo  80.0    male         face\n",
      "10014  HAM_0003521  ISIC_0032258    mel   histo  70.0  female         back\n",
      "\n",
      "[10015 rows x 7 columns]\n",
      "['scalp' 'ear' 'face' 'back' 'trunk' 'chest' 'upper extremity' 'abdomen'\n",
      " 'unknown' 'lower extremity' 'genital' 'neck' 'hand' 'foot' 'acral']\n"
     ]
    }
   ],
   "source": [
    "skin_cancer_cells = pd.read_csv(root_dir + \"/HAM10000_metadata.csv\")\n",
    "print(skin_cancer_cells)\n",
    "all_ages = list(skin_cancer_cells.age)\n",
    "is_valid = lambda x: not(np.isnan(x) or not x)\n",
    "all_ages = list(filter(is_valid, all_ages))\n",
    "avg = int(sum(all_ages)/len(all_ages))\n",
    "\n",
    "for ind, age in enumerate(skin_cancer_cells['age']):\n",
    "    if not is_valid(age):\n",
    "        skin_cancer_cells.loc[ind, 'age'] = avg\n"
   ]
  },
  {
   "cell_type": "code",
   "execution_count": 26,
   "metadata": {},
   "outputs": [],
   "source": [
    "localizations = list(skin_cancer_cells.localization.unique())\n",
    "sexes = list(skin_cancer_cells.sex.unique())\n",
    "\n",
    "for ind, loc in enumerate(skin_cancer_cells['localization']):\n",
    "    skin_cancer_cells.loc[ind, \"localization_index\"] = localizations.index(loc)\n",
    "\n",
    "for ind, sex in enumerate(skin_cancer_cells['sex']):\n",
    "    skin_cancer_cells.loc[ind, \"sex_index\"] = sexes.index(sex)\n",
    "\n"
   ]
  },
  {
   "cell_type": "code",
   "execution_count": 30,
   "metadata": {},
   "outputs": [
    {
     "name": "stdout",
     "output_type": "stream",
     "text": [
      "         lesion_id      image_id     dx dx_type   age     sex localization  \\\n",
      "0      HAM_0000118  ISIC_0027419    bkl   histo  80.0    male        scalp   \n",
      "1      HAM_0000118  ISIC_0025030    bkl   histo  80.0    male        scalp   \n",
      "2      HAM_0002730  ISIC_0026769    bkl   histo  80.0    male        scalp   \n",
      "3      HAM_0002730  ISIC_0025661    bkl   histo  80.0    male        scalp   \n",
      "4      HAM_0001466  ISIC_0031633    bkl   histo  75.0    male          ear   \n",
      "...            ...           ...    ...     ...   ...     ...          ...   \n",
      "10010  HAM_0002867  ISIC_0033084  akiec   histo  40.0    male      abdomen   \n",
      "10011  HAM_0002867  ISIC_0033550  akiec   histo  40.0    male      abdomen   \n",
      "10012  HAM_0002867  ISIC_0033536  akiec   histo  40.0    male      abdomen   \n",
      "10013  HAM_0000239  ISIC_0032854  akiec   histo  80.0    male         face   \n",
      "10014  HAM_0003521  ISIC_0032258    mel   histo  70.0  female         back   \n",
      "\n",
      "       localization_index  sex_index  \n",
      "0                     0.0        0.0  \n",
      "1                     0.0        0.0  \n",
      "2                     0.0        0.0  \n",
      "3                     0.0        0.0  \n",
      "4                     1.0        0.0  \n",
      "...                   ...        ...  \n",
      "10010                 7.0        0.0  \n",
      "10011                 7.0        0.0  \n",
      "10012                 7.0        0.0  \n",
      "10013                 2.0        0.0  \n",
      "10014                 3.0        1.0  \n",
      "\n",
      "[10015 rows x 9 columns]\n"
     ]
    }
   ],
   "source": [
    "print(skin_cancer_cells)"
   ]
  },
  {
   "cell_type": "code",
   "execution_count": null,
   "metadata": {},
   "outputs": [],
   "source": []
  }
 ],
 "metadata": {
  "kernelspec": {
   "display_name": "Python 3",
   "language": "python",
   "name": "python3"
  },
  "language_info": {
   "codemirror_mode": {
    "name": "ipython",
    "version": 3
   },
   "file_extension": ".py",
   "mimetype": "text/x-python",
   "name": "python",
   "nbconvert_exporter": "python",
   "pygments_lexer": "ipython3",
   "version": "3.6.8"
  }
 },
 "nbformat": 4,
 "nbformat_minor": 2
}
