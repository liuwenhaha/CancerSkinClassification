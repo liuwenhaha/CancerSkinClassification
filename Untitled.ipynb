{
 "cells": [
  {
   "cell_type": "code",
   "execution_count": 46,
   "metadata": {},
   "outputs": [],
   "source": [
    "import cv2\n",
    "import matplotlib.pyplot as plt\n",
    "import numpy as np"
   ]
  },
  {
   "cell_type": "code",
   "execution_count": 47,
   "metadata": {},
   "outputs": [],
   "source": [
    "image = cv2.imread(\"skin-cancer-mnist-ham10000/HAM10000_images_part_1/ISIC_0024326.jpg\")\n",
    "image = cv2.cvtColor(image,cv2.COLOR_BGR2RGB)\n",
    "kernel = np.ones((5,5),np.uint8)\n",
    "image = cv2.morphologyEx(image, cv2.MORPH_GRADIENT, kernel)"
   ]
  },
  {
   "cell_type": "raw",
   "metadata": {},
   "source": [
    "r, g, b = cv2.split(image)\n",
    "plt.imshow(r)"
   ]
  },
  {
   "cell_type": "code",
   "execution_count": null,
   "metadata": {},
   "outputs": [],
   "source": []
  },
  {
   "cell_type": "code",
   "execution_count": null,
   "metadata": {},
   "outputs": [],
   "source": []
  }
 ],
 "metadata": {
  "kernelspec": {
   "display_name": "Python 3",
   "language": "python",
   "name": "python3"
  },
  "language_info": {
   "codemirror_mode": {
    "name": "ipython",
    "version": 3
   },
   "file_extension": ".py",
   "mimetype": "text/x-python",
   "name": "python",
   "nbconvert_exporter": "python",
   "pygments_lexer": "ipython3",
   "version": "3.6.8"
  }
 },
 "nbformat": 4,
 "nbformat_minor": 2
}
