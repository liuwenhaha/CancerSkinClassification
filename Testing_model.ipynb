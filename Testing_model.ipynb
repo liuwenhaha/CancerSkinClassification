{
 "cells": [
  {
   "cell_type": "code",
   "execution_count": 7,
   "metadata": {},
   "outputs": [],
   "source": [
    "import numpy as np # linear algebra\n",
    "import torch\n",
    "import pandas as pd\n",
    "import matplotlib.pyplot as plt\n",
    "from torch.utils.data import Dataset, DataLoader\n",
    "from torch.utils.data.sampler import SubsetRandomSampler\n",
    "import cv2 as cv\n",
    "import os\n",
    "from PIL import Image\n",
    "\n",
    "\n",
    "\n",
    "import torchvision.models as models\n",
    "import torchvision\n",
    "resnet = models.resnet18(pretrained=True)\n",
    "\n",
    "# Input data files are available in the \"../input/\" directory.\n",
    "# For example, running this (by clicking run or pressing Shift+Enter) will list all files under the input directory\n",
    "import os"
   ]
  },
  {
   "cell_type": "code",
   "execution_count": 10,
   "metadata": {},
   "outputs": [
    {
     "name": "stdout",
     "output_type": "stream",
     "text": [
      "True\n",
      "GeForce GTX 950M\n"
     ]
    }
   ],
   "source": [
    "confusion_matrix = [[0 for i in range(7)] for j in range(7)]\n",
    "device = torch.device('cuda:0')\n",
    "root_dir = \"./skin-cancer-mnist-ham10000\"\n",
    "print(torch.cuda.is_available())\n",
    "print( torch.cuda.get_device_name())\n",
    "resnet =  resnet.to(device)\n",
    "torch.cuda.empty_cache()"
   ]
  },
  {
   "cell_type": "code",
   "execution_count": 11,
   "metadata": {},
   "outputs": [
    {
     "name": "stdout",
     "output_type": "stream",
     "text": [
      "         lesion_id      image_id     dx dx_type   age     sex localization\n",
      "0      HAM_0000118  ISIC_0027419    bkl   histo  80.0    male        scalp\n",
      "1      HAM_0000118  ISIC_0025030    bkl   histo  80.0    male        scalp\n",
      "2      HAM_0002730  ISIC_0026769    bkl   histo  80.0    male        scalp\n",
      "3      HAM_0002730  ISIC_0025661    bkl   histo  80.0    male        scalp\n",
      "4      HAM_0001466  ISIC_0031633    bkl   histo  75.0    male          ear\n",
      "...            ...           ...    ...     ...   ...     ...          ...\n",
      "10010  HAM_0002867  ISIC_0033084  akiec   histo  40.0    male      abdomen\n",
      "10011  HAM_0002867  ISIC_0033550  akiec   histo  40.0    male      abdomen\n",
      "10012  HAM_0002867  ISIC_0033536  akiec   histo  40.0    male      abdomen\n",
      "10013  HAM_0000239  ISIC_0032854  akiec   histo  80.0    male         face\n",
      "10014  HAM_0003521  ISIC_0032258    mel   histo  70.0  female         back\n",
      "\n",
      "[10015 rows x 7 columns]\n"
     ]
    }
   ],
   "source": [
    "skin_cancer_cells = pd.read_csv(root_dir + \"/HAM10000_metadata.csv\")\n",
    "print(skin_cancer_cells)\n",
    "all_ages = list(skin_cancer_cells.age)\n",
    "is_valid = lambda x: not(np.isnan(x) or not x)\n",
    "all_ages = list(filter(is_valid, all_ages))\n",
    "avg = int(sum(all_ages)/len(all_ages))"
   ]
  },
  {
   "cell_type": "code",
   "execution_count": null,
   "metadata": {},
   "outputs": [],
   "source": [
    "model = pytorch.load(\"\")"
   ]
  }
 ],
 "metadata": {
  "kernelspec": {
   "display_name": "Python 3",
   "language": "python",
   "name": "python3"
  },
  "language_info": {
   "codemirror_mode": {
    "name": "ipython",
    "version": 3
   },
   "file_extension": ".py",
   "mimetype": "text/x-python",
   "name": "python",
   "nbconvert_exporter": "python",
   "pygments_lexer": "ipython3",
   "version": "3.6.8"
  }
 },
 "nbformat": 4,
 "nbformat_minor": 2
}
